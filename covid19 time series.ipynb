{
 "cells": [
  {
   "cell_type": "code",
   "execution_count": 1,
   "metadata": {},
   "outputs": [],
   "source": [
    "import pandas as pd"
   ]
  },
  {
   "cell_type": "code",
   "execution_count": 65,
   "metadata": {},
   "outputs": [],
   "source": [
    "df = pd.read_csv('https://raw.githubusercontent.com/nytimes/covid-19-data/master/us-counties.csv')"
   ]
  },
  {
   "cell_type": "code",
   "execution_count": 66,
   "metadata": {},
   "outputs": [],
   "source": [
    "df['date'] = pd.to_datetime(df['date'], format = '%Y-%m-%d')"
   ]
  },
  {
   "cell_type": "code",
   "execution_count": 67,
   "metadata": {},
   "outputs": [],
   "source": [
    "df['fips'] = df['fips'].fillna(0)\n",
    "df['fips'] = df['fips'].astype(int)\n",
    "df['fips'] = df['fips'].astype(str)\n",
    "df['fips'] = df['fips'].str.zfill(5)\n",
    "df['deaths'] = df['deaths'].fillna(0)\n",
    "df['deaths'] = df['deaths'].astype(int)"
   ]
  },
  {
   "cell_type": "code",
   "execution_count": 68,
   "metadata": {},
   "outputs": [],
   "source": [
    "#Assign New York to a unique FIPS\n",
    "df.loc[df['county'] == 'New York City','fips'] = '99999'\n",
    "\n",
    "#Assign unknown counties to a generic FIPS code for state\n",
    "df.loc[(df['county'] == 'Unknown') & (df['state'] == 'Alabama'),'fips'] = '01000'\n",
    "df.loc[(df['county'] == 'Unknown') & (df['state'] == 'Alaska'),'fips'] = '02000'\n",
    "df.loc[(df['county'] == 'Unknown') & (df['state'] == 'Arizona'),'fips'] = '04000'\n",
    "df.loc[(df['county'] == 'Unknown') & (df['state'] == 'Arkansas'),'fips'] = '05000'\n",
    "df.loc[(df['county'] == 'Unknown') & (df['state'] == 'California'),'fips'] = '06000'\n",
    "df.loc[(df['county'] == 'Unknown') & (df['state'] == 'Colorado'),'fips'] = '08000'\n",
    "df.loc[(df['county'] == 'Unknown') & (df['state'] == 'Connecticut'),'fips'] = '09000'\n",
    "df.loc[(df['county'] == 'Unknown') & (df['state'] == 'Delaware'),'fips'] = '10000'\n",
    "df.loc[(df['county'] == 'Unknown') & (df['state'] == 'Florida'),'fips'] = '12000'\n",
    "df.loc[(df['county'] == 'Unknown') & (df['state'] == 'Georgia'),'fips'] = '13000'\n",
    "df.loc[(df['county'] == 'Unknown') & (df['state'] == 'Hawaii'),'fips'] = '15000'\n",
    "df.loc[(df['county'] == 'Unknown') & (df['state'] == 'Idaho'),'fips'] = '16000'\n",
    "df.loc[(df['county'] == 'Unknown') & (df['state'] == 'Illinois'),'fips'] = '17000'\n",
    "df.loc[(df['county'] == 'Unknown') & (df['state'] == 'Indiana'),'fips'] = '18000'\n",
    "df.loc[(df['county'] == 'Unknown') & (df['state'] == 'Iowa'),'fips'] = '19000'\n",
    "df.loc[(df['county'] == 'Unknown') & (df['state'] == 'Kansas'),'fips'] = '20000'\n",
    "df.loc[(df['county'] == 'Unknown') & (df['state'] == 'Kentucky'),'fips'] = '21000'\n",
    "df.loc[(df['county'] == 'Unknown') & (df['state'] == 'Louisiana'),'fips'] = '22000'\n",
    "df.loc[(df['county'] == 'Unknown') & (df['state'] == 'Maine'),'fips'] = '23000'\n",
    "df.loc[(df['county'] == 'Unknown') & (df['state'] == 'Maryland'),'fips'] = '24000'\n",
    "df.loc[(df['county'] == 'Unknown') & (df['state'] == 'Massachusetts'),'fips'] = '25000'\n",
    "df.loc[(df['county'] == 'Unknown') & (df['state'] == 'Michigan'),'fips'] = '26000'\n",
    "df.loc[(df['county'] == 'Unknown') & (df['state'] == 'Minnesota'),'fips'] = '27000'\n",
    "df.loc[(df['county'] == 'Unknown') & (df['state'] == 'Mississippi'),'fips'] = '28000'\n",
    "df.loc[(df['county'] == 'Unknown') & (df['state'] == 'Missouri'),'fips'] = '29000'\n",
    "df.loc[(df['county'] == 'Unknown') & (df['state'] == 'Montana'),'fips'] = '30000'\n",
    "df.loc[(df['county'] == 'Unknown') & (df['state'] == 'Nebraska'),'fips'] = '31000'\n",
    "df.loc[(df['county'] == 'Unknown') & (df['state'] == 'Nevada'),'fips'] = '32000'\n",
    "df.loc[(df['county'] == 'Unknown') & (df['state'] == 'New Hampshire'),'fips'] = '33000'\n",
    "df.loc[(df['county'] == 'Unknown') & (df['state'] == 'New Jersey'),'fips'] = '34000'\n",
    "df.loc[(df['county'] == 'Unknown') & (df['state'] == 'New Mexico'),'fips'] = '35000'\n",
    "df.loc[(df['county'] == 'Unknown') & (df['state'] == 'New York'),'fips'] = '36000'\n",
    "df.loc[(df['county'] == 'Unknown') & (df['state'] == 'North Carolina'),'fips'] = '37000'\n",
    "df.loc[(df['county'] == 'Unknown') & (df['state'] == 'North Dakota'),'fips'] = '38000'\n",
    "df.loc[(df['county'] == 'Unknown') & (df['state'] == 'Ohio'),'fips'] = '39000'\n",
    "df.loc[(df['county'] == 'Unknown') & (df['state'] == 'Oklahoma'),'fips'] = '40000'\n",
    "df.loc[(df['county'] == 'Unknown') & (df['state'] == 'Oregon'),'fips'] = '41000'\n",
    "df.loc[(df['county'] == 'Unknown') & (df['state'] == 'Pennsylvania'),'fips'] = '42000'\n",
    "df.loc[(df['county'] == 'Unknown') & (df['state'] == 'Rhode Island'),'fips'] = '44000'\n",
    "df.loc[(df['county'] == 'Unknown') & (df['state'] == 'South Carolina'),'fips'] = '45000'\n",
    "df.loc[(df['county'] == 'Unknown') & (df['state'] == 'South Dakota'),'fips'] = '46000'\n",
    "df.loc[(df['county'] == 'Unknown') & (df['state'] == 'Tennessee'),'fips'] = '47000'\n",
    "df.loc[(df['county'] == 'Unknown') & (df['state'] == 'Texas'),'fips'] = '48000'\n",
    "df.loc[(df['county'] == 'Unknown') & (df['state'] == 'Utah'),'fips'] = '49000'\n",
    "df.loc[(df['county'] == 'Unknown') & (df['state'] == 'Vermont'),'fips'] = '50000'\n",
    "df.loc[(df['county'] == 'Unknown') & (df['state'] == 'Virginia'),'fips'] = '51000'\n",
    "df.loc[(df['county'] == 'Unknown') & (df['state'] == 'Washington'),'fips'] = '53000'\n",
    "df.loc[(df['county'] == 'Unknown') & (df['state'] == 'West Virginia'),'fips'] = '54000'\n",
    "df.loc[(df['county'] == 'Unknown') & (df['state'] == 'Wisconsin'),'fips'] = '55000'\n",
    "df.loc[(df['county'] == 'Unknown') & (df['state'] == 'Wyoming'),'fips'] = '56000'\n",
    "df.loc[(df['county'] == 'Unknown') & (df['state'] == 'American Samoa'),'fips'] = '60000'\n",
    "df.loc[(df['county'] == 'Unknown') & (df['state'] == 'Guam'),'fips'] = '66000'\n",
    "df.loc[(df['county'] == 'Unknown') & (df['state'] == 'Northern Mariana Islands'),'fips'] = '69000'\n",
    "df.loc[(df['county'] == 'Unknown') & (df['state'] == 'Puerto Rico'),'fips'] = '72000'\n",
    "df.loc[(df['county'] == 'Unknown') & (df['state'] == 'Virgin Islands'),'fips'] = '78000'\n",
    "\n",
    "#Assign cities in Missouri based on the county the mostly reside in.\n",
    "df.loc[(df['county'] == 'Joplin') & (df['state'] == 'Missouri'),'fips'] = '27097'\n",
    "df.loc[(df['county'] == 'Kansas City') & (df['state'] == 'Missouri'),'fips'] = '27095'"
   ]
  },
  {
   "cell_type": "code",
   "execution_count": 69,
   "metadata": {},
   "outputs": [
    {
     "data": {
      "text/html": [
       "<div>\n",
       "<style scoped>\n",
       "    .dataframe tbody tr th:only-of-type {\n",
       "        vertical-align: middle;\n",
       "    }\n",
       "\n",
       "    .dataframe tbody tr th {\n",
       "        vertical-align: top;\n",
       "    }\n",
       "\n",
       "    .dataframe thead th {\n",
       "        text-align: right;\n",
       "    }\n",
       "</style>\n",
       "<table border=\"1\" class=\"dataframe\">\n",
       "  <thead>\n",
       "    <tr style=\"text-align: right;\">\n",
       "      <th></th>\n",
       "      <th>date</th>\n",
       "      <th>county</th>\n",
       "      <th>state</th>\n",
       "      <th>fips</th>\n",
       "      <th>cases</th>\n",
       "      <th>deaths</th>\n",
       "    </tr>\n",
       "  </thead>\n",
       "  <tbody>\n",
       "    <tr>\n",
       "      <th>2271745</th>\n",
       "      <td>2022-03-03</td>\n",
       "      <td>Sweetwater</td>\n",
       "      <td>Wyoming</td>\n",
       "      <td>56037</td>\n",
       "      <td>11014</td>\n",
       "      <td>123</td>\n",
       "    </tr>\n",
       "    <tr>\n",
       "      <th>2271746</th>\n",
       "      <td>2022-03-03</td>\n",
       "      <td>Teton</td>\n",
       "      <td>Wyoming</td>\n",
       "      <td>56039</td>\n",
       "      <td>9805</td>\n",
       "      <td>16</td>\n",
       "    </tr>\n",
       "    <tr>\n",
       "      <th>2271747</th>\n",
       "      <td>2022-03-03</td>\n",
       "      <td>Uinta</td>\n",
       "      <td>Wyoming</td>\n",
       "      <td>56041</td>\n",
       "      <td>5624</td>\n",
       "      <td>37</td>\n",
       "    </tr>\n",
       "    <tr>\n",
       "      <th>2271748</th>\n",
       "      <td>2022-03-03</td>\n",
       "      <td>Washakie</td>\n",
       "      <td>Wyoming</td>\n",
       "      <td>56043</td>\n",
       "      <td>2342</td>\n",
       "      <td>43</td>\n",
       "    </tr>\n",
       "    <tr>\n",
       "      <th>2271749</th>\n",
       "      <td>2022-03-03</td>\n",
       "      <td>Weston</td>\n",
       "      <td>Wyoming</td>\n",
       "      <td>56045</td>\n",
       "      <td>1562</td>\n",
       "      <td>18</td>\n",
       "    </tr>\n",
       "  </tbody>\n",
       "</table>\n",
       "</div>"
      ],
      "text/plain": [
       "              date      county    state   fips  cases  deaths\n",
       "2271745 2022-03-03  Sweetwater  Wyoming  56037  11014     123\n",
       "2271746 2022-03-03       Teton  Wyoming  56039   9805      16\n",
       "2271747 2022-03-03       Uinta  Wyoming  56041   5624      37\n",
       "2271748 2022-03-03    Washakie  Wyoming  56043   2342      43\n",
       "2271749 2022-03-03      Weston  Wyoming  56045   1562      18"
      ]
     },
     "execution_count": 69,
     "metadata": {},
     "output_type": "execute_result"
    }
   ],
   "source": [
    "df.tail()"
   ]
  },
  {
   "cell_type": "code",
   "execution_count": 64,
   "metadata": {},
   "outputs": [
    {
     "data": {
      "text/html": [
       "<div>\n",
       "<style scoped>\n",
       "    .dataframe tbody tr th:only-of-type {\n",
       "        vertical-align: middle;\n",
       "    }\n",
       "\n",
       "    .dataframe tbody tr th {\n",
       "        vertical-align: top;\n",
       "    }\n",
       "\n",
       "    .dataframe thead th {\n",
       "        text-align: right;\n",
       "    }\n",
       "</style>\n",
       "<table border=\"1\" class=\"dataframe\">\n",
       "  <thead>\n",
       "    <tr style=\"text-align: right;\">\n",
       "      <th></th>\n",
       "      <th>date</th>\n",
       "      <th>county</th>\n",
       "      <th>state</th>\n",
       "      <th>fips</th>\n",
       "      <th>cases</th>\n",
       "      <th>deaths</th>\n",
       "      <th>date_shift01</th>\n",
       "      <th>date_shift02</th>\n",
       "      <th>date_shift03</th>\n",
       "      <th>date_shift04</th>\n",
       "      <th>...</th>\n",
       "      <th>date_shift21</th>\n",
       "      <th>date_shift22</th>\n",
       "      <th>date_shift23</th>\n",
       "      <th>date_shift24</th>\n",
       "      <th>date_shift25</th>\n",
       "      <th>date_shift26</th>\n",
       "      <th>date_shift27</th>\n",
       "      <th>date_shift28</th>\n",
       "      <th>date_shift29</th>\n",
       "      <th>date_shift30</th>\n",
       "    </tr>\n",
       "  </thead>\n",
       "  <tbody>\n",
       "  </tbody>\n",
       "</table>\n",
       "<p>0 rows × 36 columns</p>\n",
       "</div>"
      ],
      "text/plain": [
       "Empty DataFrame\n",
       "Columns: [date, county, state, fips, cases, deaths, date_shift01, date_shift02, date_shift03, date_shift04, date_shift05, date_shift06, date_shift07, date_shift08, date_shift09, date_shift10, date_shift11, date_shift12, date_shift13, date_shift14, date_shift15, date_shift16, date_shift17, date_shift18, date_shift19, date_shift20, date_shift21, date_shift22, date_shift23, date_shift24, date_shift25, date_shift26, date_shift27, date_shift28, date_shift29, date_shift30]\n",
       "Index: []\n",
       "\n",
       "[0 rows x 36 columns]"
      ]
     },
     "execution_count": 64,
     "metadata": {},
     "output_type": "execute_result"
    }
   ],
   "source": [
    "for i in range(30):\n",
    "    df['date_shift' + str(i + 1).zfill(2)] = df['date'] + pd.Timedelta(days = i + 1)"
   ]
  },
  {
   "cell_type": "code",
   "execution_count": null,
   "metadata": {},
   "outputs": [],
   "source": [
    "#Need three columns\n",
    "#A key (based on date and fips)\n",
    "#A variable name\n",
    "#A variable value\n",
    "#Target variable will be percent increase"
   ]
  }
 ],
 "metadata": {
  "kernelspec": {
   "display_name": "Python 3",
   "language": "python",
   "name": "python3"
  },
  "language_info": {
   "codemirror_mode": {
    "name": "ipython",
    "version": 3
   },
   "file_extension": ".py",
   "mimetype": "text/x-python",
   "name": "python",
   "nbconvert_exporter": "python",
   "pygments_lexer": "ipython3",
   "version": "3.7.3"
  }
 },
 "nbformat": 4,
 "nbformat_minor": 2
}
